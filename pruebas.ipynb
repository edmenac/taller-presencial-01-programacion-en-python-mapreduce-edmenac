{
 "cells": [
  {
   "cell_type": "code",
   "execution_count": 6,
   "metadata": {},
   "outputs": [],
   "source": [
    "import glob\n",
    "import fileinput"
   ]
  },
  {
   "cell_type": "code",
   "execution_count": 7,
   "metadata": {},
   "outputs": [],
   "source": [
    "def load_input(input_directory):\n",
    "\n",
    "    sequence = []\n",
    "    filenames = glob.glob(input_directory + \"/*\")\n",
    "    with fileinput.input(files=filenames) as f:\n",
    "        for line in f:\n",
    "            sequence.append((fileinput.filename(), line))\n",
    "    return sequence"
   ]
  },
  {
   "cell_type": "code",
   "execution_count": 8,
   "metadata": {},
   "outputs": [],
   "source": [
    "def mapper(sequence):\n",
    "    new_sequence = []\n",
    "    for _, text in sequence:\n",
    "        words = text.split()\n",
    "        for word in words:\n",
    "            new_sequence.append((word,1))\n",
    "    return new_sequence"
   ]
  },
  {
   "cell_type": "code",
   "execution_count": 9,
   "metadata": {},
   "outputs": [],
   "source": [
    "def shuffle_and_sort(sequence):\n",
    "    sorted_sequence = sorted(sequence, key = lambda x: x[0])\n",
    "    return sorted_sequence\n"
   ]
  },
  {
   "cell_type": "code",
   "execution_count": 15,
   "metadata": {},
   "outputs": [],
   "source": [
    "def reducer(sequence):\n",
    "    diccionario = {}\n",
    "    # for key, value in sequence:\n",
    "    #     if key not in diccionario:\n",
    "    #         diccionario[key] = []\n",
    "    #     diccionario[key].append(value)\n",
    "    \n",
    "    # new_sequence = []\n",
    "    # for key, value in diccionario.items():\n",
    "    #     tupla = (key, sum(value))\n",
    "    #     new_sequence.append(tupla)\n",
    "    # return new_sequence\n",
    "\n",
    "    for key, value in sequence:\n",
    "        if key not in diccionario.keys():\n",
    "            diccionario[key] = 0\n",
    "        diccionario[key] += value\n",
    "\n",
    "    new_sequence = []\n",
    "    for key, value in diccionario.items():\n",
    "        tupla = (key, value)\n",
    "        new_sequence.append(tupla)\n",
    "    \n",
    "    return new_sequence        \n",
    "\n",
    "\n",
    "\n",
    "sequence = load_input(\"input\")\n",
    "sequence = mapper(sequence)\n",
    "sequence = sorted(sequence)\n",
    "sequence = reducer(sequence)"
   ]
  }
 ],
 "metadata": {
  "kernelspec": {
   "display_name": ".venv",
   "language": "python",
   "name": "python3"
  },
  "language_info": {
   "codemirror_mode": {
    "name": "ipython",
    "version": 3
   },
   "file_extension": ".py",
   "mimetype": "text/x-python",
   "name": "python",
   "nbconvert_exporter": "python",
   "pygments_lexer": "ipython3",
   "version": "3.9.0"
  }
 },
 "nbformat": 4,
 "nbformat_minor": 2
}
